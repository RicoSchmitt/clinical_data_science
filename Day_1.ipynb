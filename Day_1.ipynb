{
  "nbformat": 4,
  "nbformat_minor": 0,
  "metadata": {
    "kernelspec": {
      "display_name": "Python 3",
      "language": "python",
      "name": "python3"
    },
    "language_info": {
      "codemirror_mode": {
        "name": "ipython",
        "version": 3
      },
      "file_extension": ".py",
      "mimetype": "text/x-python",
      "name": "python",
      "nbconvert_exporter": "python",
      "pygments_lexer": "ipython3",
      "version": "3.7.6"
    },
    "colab": {
      "name": "Day_1.ipynb",
      "provenance": [],
      "collapsed_sections": []
    }
  },
  "cells": [
    {
      "cell_type": "markdown",
      "metadata": {
        "toc-hr-collapsed": false,
        "id": "4TxxL9UEaqO9"
      },
      "source": [
        "# **Clinical Data Science and Machine Learning with Python**\n",
        " \n",
        "## **Day 1**\n",
        "\n",
        "- **Instructor**: Teresa Krieger, BIH/Charité (teresa.krieger@charite.de)\n",
        "- **Course date**: November 2021\n",
        "\n",
        "**Content**:\n",
        "\n",
        "1.   References\n",
        "2.   Basic usage\n",
        "3.   Importing libraries and data\n",
        "4.   Data exploration\n",
        "5.   Performing calculations on data\n",
        "6.   Visualising data\n",
        "7.   Dimensional reduction and clustering\n",
        "8.   Identifying cell types"
      ]
    },
    {
      "cell_type": "markdown",
      "metadata": {
        "id": "PB4ROcAPaqPB"
      },
      "source": [
        "---\n",
        "## **1. References**\n",
        "\n",
        "In this course, we will use Python 3.6 (default in Colab as of February 2021).\n",
        "The following documentation and links might be useful to you:\n",
        "\n",
        "- Python 3:\n",
        "  - https://docs.python.org/3/\n",
        "- `numpy`:\n",
        "  - https://numpy.org/doc/stable/user/absolute_beginners.html\n",
        "- `pandas`:\n",
        "  - https://pandas.pydata.org/pandas-docs/version/0.15/tutorials.html\n",
        "- `matplotlib`:\n",
        "  - https://matplotlib.org/stable/\n",
        "- Source of the PBMC dataset:\n",
        "  - https://support.10xgenomics.com/single-cell-gene-expression/datasets/1.1.0/pbmc3k\n",
        "\n"
      ]
    },
    {
      "cell_type": "markdown",
      "metadata": {
        "id": "YBQF0ovWU5bP"
      },
      "source": [
        "---\n",
        "## **2. Basic usage**"
      ]
    },
    {
      "cell_type": "markdown",
      "metadata": {
        "id": "C03QNgcokiCF"
      },
      "source": [
        "**Jupyter notebook**:\n",
        "\n",
        "This web-based interface is a **Jupyter notebook**, a web application that allows you to create and share documents which contain executable code, equations, visualizations and explanatory text. \n",
        "\n",
        "It allows you to define **cells** of different formats:\n",
        "\n",
        "- Text cells (like this cell)\n",
        "- Code cells\n",
        "\n",
        "You can *run* (execute) each cell seperately by pressing <kbd>Shift</kbd>+<kbd>Enter</kbd> or <kbd>Ctrl</kbd>+<kbd>Enter</kbd>. All names you define (variables, functions...) are available for *both* preceding _and_ following cells once executed.\n",
        "\n",
        "Some code cells additionally produce an output (text, images, etc.), which will appear underneath the cell.\n"
      ]
    },
    {
      "cell_type": "markdown",
      "metadata": {
        "id": "6cFifw3jYl-V"
      },
      "source": [
        "**Flow control**:\n",
        "\n",
        "Liker programming languages python allows you to control the flow of variables through your code through conditional statements: `if`, `else`, `for`, `while`.\n",
        "\n",
        "For example, we could write a script that checks the oxygen saturation of a patient and raises an alert if it goes below a certain threshold:\n",
        "```python\n",
        "if oxygen_saturation < 90:\n",
        "    print(\"We've got a problem!\")\n",
        "else:\n",
        "    print(\"Oxygen levels are looking good.\")\n",
        "```"
      ]
    },
    {
      "cell_type": "markdown",
      "metadata": {
        "id": "iif0JmYAZoGZ"
      },
      "source": [
        "**Functions**: \n",
        "\n",
        "Functions are essentially reusable snippets of code that accept variables as arguments. They can thus perform the same operations on many different inputs. Functions in Python could accept one or several variables, some of which might be optional. \n",
        "\n",
        "To learn more about a particular function, you can access its documentation using `help(function_name)`.\n",
        "\n",
        "```python\n",
        "# Define a function\n",
        "def square(number):\n",
        "    output = number ** 2\n",
        "    return output\n",
        "\n",
        "# Use the function\n",
        "result = square(2)\n",
        "```"
      ]
    },
    {
      "cell_type": "markdown",
      "metadata": {
        "id": "_fPGsCxybTc1"
      },
      "source": [
        "**Methods and attributes**:\n",
        "\n",
        "Besides functions, Python also knows methods (which are functions attached to variables) and attributes (which are variables attached to variables). These can be accessed using a `.` after the variable name.\n",
        "\n",
        "For example, a variable that contains `5.7` has a method `is_integer()` and an attribute `real`:\n"
      ]
    },
    {
      "cell_type": "code",
      "metadata": {
        "id": "o34zB0WLdUnp"
      },
      "source": [
        "test_variable = 5.7"
      ],
      "execution_count": null,
      "outputs": []
    },
    {
      "cell_type": "code",
      "metadata": {
        "id": "-PO-oS6Kde_0"
      },
      "source": [
        "test_variable.is_integer()"
      ],
      "execution_count": null,
      "outputs": []
    },
    {
      "cell_type": "code",
      "metadata": {
        "id": "YQ6zZFOLdcQs"
      },
      "source": [
        "test_variable.real"
      ],
      "execution_count": null,
      "outputs": []
    },
    {
      "cell_type": "markdown",
      "metadata": {
        "id": "KooWY7lOknuH"
      },
      "source": [
        "---\n",
        "#### **_Your turn_: Exercises**"
      ]
    },
    {
      "cell_type": "markdown",
      "metadata": {
        "id": "DEG8mclZXBGv"
      },
      "source": [
        "**Exercise 1**: Try to execute the following cells and make sure the output appears. Also try writing some code yourself!"
      ]
    },
    {
      "cell_type": "code",
      "metadata": {
        "id": "q_TeDX7Tk_y1"
      },
      "source": [
        "print(\"This statement will appear as output.\")\n",
        "# This is a comment. Comments are ignored in the outputs of a cell.\n",
        "# print('This statement will NOT appear as output.')"
      ],
      "execution_count": null,
      "outputs": []
    },
    {
      "cell_type": "code",
      "metadata": {
        "id": "_KBl4L5OWik_"
      },
      "source": [
        "this_is_a_boolean = False   # A boolean variable is either False or True\n",
        "print(this_is_a_boolean)"
      ],
      "execution_count": null,
      "outputs": []
    },
    {
      "cell_type": "code",
      "metadata": {
        "id": "SCdbezjaWmh1"
      },
      "source": [
        "my_string = \"This is a string\"\n",
        "print(my_string)"
      ],
      "execution_count": null,
      "outputs": []
    },
    {
      "cell_type": "code",
      "metadata": {
        "id": "eBwfPDxVWsiz"
      },
      "source": [
        "# Try your own code below:"
      ],
      "execution_count": null,
      "outputs": []
    },
    {
      "cell_type": "markdown",
      "metadata": {
        "id": "TMh_LLQ6XJEz"
      },
      "source": [
        "**Exercise 2**: When executing the following code, will there be an error? Why (not)?\n"
      ]
    },
    {
      "cell_type": "code",
      "metadata": {
        "id": "ikg7piuDXQSg"
      },
      "source": [
        "x = 5\n",
        "y = \"5\"\n",
        "\n",
        "print(x + y)"
      ],
      "execution_count": null,
      "outputs": []
    },
    {
      "cell_type": "markdown",
      "metadata": {
        "id": "HQ2baKahXaRR"
      },
      "source": [
        "**Exercise 3**: What is the expected output of the following code?\n",
        "```python\n",
        "x = \"\"\n",
        "for i in \"Welcome_to_Python!\":\n",
        "    if i == \"_\":\n",
        "        x += \" \"\n",
        "    else:\n",
        "        x += i\n",
        "print(x)\n",
        "```"
      ]
    },
    {
      "cell_type": "markdown",
      "metadata": {
        "id": "IfM806IGZqtF"
      },
      "source": [
        "**Exercise 4**: Call the documentation for the function `len()`."
      ]
    },
    {
      "cell_type": "code",
      "metadata": {
        "id": "TqYJyaILayUi"
      },
      "source": [
        ""
      ],
      "execution_count": null,
      "outputs": []
    },
    {
      "cell_type": "markdown",
      "metadata": {
        "id": "Kie12BScaqPG"
      },
      "source": [
        "---\n",
        "## **3. Importing libraries and data**"
      ]
    },
    {
      "cell_type": "markdown",
      "metadata": {
        "id": "JZtac2SKep1t"
      },
      "source": [
        "First, we need to install the libraries `scanpy` and `leidenalg` used for RNA sequencing analysis."
      ]
    },
    {
      "cell_type": "code",
      "metadata": {
        "id": "1DiafMrlfo3r"
      },
      "source": [
        "!pip3 install -q scanpy[louvain]\n",
        "!pip3 install leidenalg\n",
        "!pip3 install -U matplotlib"
      ],
      "execution_count": null,
      "outputs": []
    },
    {
      "cell_type": "markdown",
      "metadata": {
        "id": "QFD4gVGofp2X"
      },
      "source": [
        "Restart the runtime after installing new libraries by clicking on `Runtime > Restart runtime` in the menu bar.\n",
        "\n",
        "Now we can import the libraries `numpy`, `pandas` and `scanpy` (abbreviated as `np`, `pd` and `sc`)."
      ]
    },
    {
      "cell_type": "code",
      "metadata": {
        "id": "NY1-8UxyaqPH"
      },
      "source": [
        "import numpy as np\n",
        "import pandas as pd\n",
        "import scanpy as sc"
      ],
      "execution_count": null,
      "outputs": []
    },
    {
      "cell_type": "markdown",
      "metadata": {
        "id": "DV8jdkIpMd-h"
      },
      "source": [
        "We also need to download our data, which consists of single-cell RNA sequencing data from PBMCs from a healthy donor. It is freely available from 10x Genomics and has been provided for you at the link below. In this code, we use the `!` to execute commands not within this notebook but in the shell (meaning on your computer or, in this case, your colab environment). We also use `wget` to download a file from the internet. \n"
      ]
    },
    {
      "cell_type": "code",
      "metadata": {
        "id": "RfbfzO2ncpyR"
      },
      "source": [
        "!wget -O pbmc.csv https://www.dropbox.com/s/zwiyb1odccjk0cy/pbmc_data.csv?dl=0"
      ],
      "execution_count": null,
      "outputs": []
    },
    {
      "cell_type": "markdown",
      "metadata": {
        "id": "qohCFuZvaqPJ"
      },
      "source": [
        "We will now use the `read_csv()` function ([see docs](https://pandas.pydata.org/pandas-docs/stable/reference/api/pandas.read_csv.html)) to load the csv file content as a `DataFrame` into the variable `pbmc`."
      ]
    },
    {
      "cell_type": "code",
      "metadata": {
        "id": "kgPuEJz8H34V"
      },
      "source": [
        "pbmc = pd.read_csv('pbmc.csv', sep=',', index_col=0)"
      ],
      "execution_count": null,
      "outputs": []
    },
    {
      "cell_type": "markdown",
      "metadata": {
        "id": "O9BHrLT7aqPK"
      },
      "source": [
        "---\n",
        "### **4. Data exploration**"
      ]
    },
    {
      "cell_type": "markdown",
      "metadata": {
        "id": "PhPyyrh1YytW"
      },
      "source": [
        "What does the data in our count matrix look like?"
      ]
    },
    {
      "cell_type": "markdown",
      "metadata": {
        "id": "6GKXgJfGaqPO"
      },
      "source": [
        "#### `DataFrame` dimensionality\n",
        "\n",
        "The attribute `shape` contains the number of rows and columns of the table in the form of `(n_rows, n_columns)`."
      ]
    },
    {
      "cell_type": "code",
      "metadata": {
        "id": "g1A4VaICaqPO"
      },
      "source": [
        "pbmc.shape"
      ],
      "execution_count": null,
      "outputs": []
    },
    {
      "cell_type": "markdown",
      "metadata": {
        "id": "2j7vfylcaqPK"
      },
      "source": [
        "#### `DataFrame` head/tail\n",
        "\n",
        "The `head()` and and `tail()` functions can be used to take a look at only the first or last few rows of the table ([see docs](https://pandas.pydata.org/pandas-docs/stable/reference/api/pandas.DataFrame.head.html)). \n",
        "\n",
        "You can pass a number to these functions to specify how many rows you want to see."
      ]
    },
    {
      "cell_type": "code",
      "metadata": {
        "id": "evJC3maoaqPM"
      },
      "source": [
        "pbmc.head()  # Shows the first 5 rows (by default)"
      ],
      "execution_count": null,
      "outputs": []
    },
    {
      "cell_type": "code",
      "metadata": {
        "id": "4QccKv19aqPO"
      },
      "source": [
        "pbmc.tail(2)  # Shows the last 2 rows"
      ],
      "execution_count": null,
      "outputs": []
    },
    {
      "cell_type": "markdown",
      "metadata": {
        "id": "NLlBz-iee0Md"
      },
      "source": [
        "#### `DataFrame` select entries\n",
        "\n",
        "To select individual **columns**, we can use the following syntax: \n",
        "\n",
        "`data_frame[list_of_columns]`\n",
        "\n",
        "For example, to select the cells with labels 'AAACATTGATCAGC' and 'AAACCGTGTATGCG', the list of column names of interest could look like this: `list_of_columns = ['AAACATTGATCAGC', 'AAACCGTGTATGCG']`\n",
        "\n",
        "And putting this together:"
      ]
    },
    {
      "cell_type": "code",
      "metadata": {
        "id": "N7cqR042gwBn"
      },
      "source": [
        "list_of_columns = ['AAACATTGATCAGC', 'AAACCGTGTATGCG']\n",
        "pbmc[list_of_columns].head()   # Note the use of .head() to show only the first 5 rows"
      ],
      "execution_count": null,
      "outputs": []
    },
    {
      "cell_type": "markdown",
      "metadata": {
        "id": "4cJ54uLRhKPO"
      },
      "source": [
        "To select individual rows, we can use 'loc' as follows:\n",
        "\n",
        "`data_frame.loc[list_of_rows, list_of_columns]`\n",
        "\n",
        "Note that, to select all rows or columns, we just use `:` instead of giving a list. \n",
        "\n",
        "So to look at the expression of the gene lysozyme in row 'LYZ' across all columns: "
      ]
    },
    {
      "cell_type": "code",
      "metadata": {
        "id": "wWJeMZB2fGKw"
      },
      "source": [
        "pbmc.loc['LYZ', :]   "
      ],
      "execution_count": null,
      "outputs": []
    },
    {
      "cell_type": "markdown",
      "metadata": {
        "id": "LZPAo-6JaqPR"
      },
      "source": [
        "---\n",
        "#### **_Your turn_: Exercises**"
      ]
    },
    {
      "cell_type": "markdown",
      "metadata": {
        "id": "bi21Y5NTaqPR"
      },
      "source": [
        "__Exercise 1__: Get (a) the first 4 rows and (b) the last 5 rows in `pbmc`"
      ]
    },
    {
      "cell_type": "code",
      "metadata": {
        "id": "ZJq_AtA5aqPR"
      },
      "source": [
        ""
      ],
      "execution_count": null,
      "outputs": []
    },
    {
      "cell_type": "code",
      "metadata": {
        "id": "4lX5Fnnzj7On"
      },
      "source": [
        ""
      ],
      "execution_count": null,
      "outputs": []
    },
    {
      "cell_type": "markdown",
      "metadata": {
        "id": "qbZibC0ghpu6"
      },
      "source": [
        "**Exercise 2**: Select (a) gene expression for the first 5 genes in the cell labelled 'AAACCGTGCTTCCG' and (b) gene expression of 'S100A9' across all cells."
      ]
    },
    {
      "cell_type": "code",
      "metadata": {
        "id": "C6KYJRvtieSm"
      },
      "source": [
        ""
      ],
      "execution_count": null,
      "outputs": []
    },
    {
      "cell_type": "code",
      "metadata": {
        "id": "rvbX2ElJie8a"
      },
      "source": [
        ""
      ],
      "execution_count": null,
      "outputs": []
    },
    {
      "cell_type": "markdown",
      "metadata": {
        "id": "zNqWej3GmkEy"
      },
      "source": [
        "---\n",
        "## **5. Performing calculations on data**"
      ]
    },
    {
      "cell_type": "markdown",
      "metadata": {
        "id": "-IaNCvaCmpij"
      },
      "source": [
        "Now, we would like to find out **how many counts and how many unique genes** are detected for each cell in our data set. To do this, we need to sum values across columns in our data frame. This is achieved using `sum` in `pandas`. Note that you need to choose which axis to sum over - 0 for rows and 1 for columns:"
      ]
    },
    {
      "cell_type": "code",
      "metadata": {
        "id": "-QDVD8QsmpWq"
      },
      "source": [
        "total_gene_counts = pbmc.sum(axis=0)  # Sum across rows\n",
        "total_gene_counts.head()"
      ],
      "execution_count": null,
      "outputs": []
    },
    {
      "cell_type": "markdown",
      "metadata": {
        "id": "BG_PTDHcncNh"
      },
      "source": [
        "The code above gives us the total counts detected for each gene across all cells. What if we only want to count how many genes are detected in each cell? Then we first need to determine if a gene is detected, using a boolean, and sum afterwards:"
      ]
    },
    {
      "cell_type": "code",
      "metadata": {
        "id": "hL9BRuIHodS4"
      },
      "source": [
        "detected = pbmc>0\n",
        "detected.head()       # 'True' means that a gene is detected in the cell"
      ],
      "execution_count": null,
      "outputs": []
    },
    {
      "cell_type": "code",
      "metadata": {
        "id": "jMx7umjto1c7"
      },
      "source": [
        "unique_genes = detected.sum(axis=0)\n",
        "unique_genes.head()"
      ],
      "execution_count": null,
      "outputs": []
    },
    {
      "cell_type": "markdown",
      "metadata": {
        "id": "i6zIWg8Qw6iQ"
      },
      "source": [
        "If we want to keep this information for later use or share it with others, we can save our result as a CSV file using the `to_csv` function in `pandas`. Here, we will create a data frame with column labels to ensure that we will remember what our data means, and write it to a file called `unique_genes.csv`."
      ]
    },
    {
      "cell_type": "code",
      "metadata": {
        "id": "N9OkigulyUM7"
      },
      "source": [
        "df = pd.DataFrame({'Unique_genes': unique_genes})\n",
        "df.head()"
      ],
      "execution_count": null,
      "outputs": []
    },
    {
      "cell_type": "code",
      "metadata": {
        "id": "fbjk48hVxNIx"
      },
      "source": [
        "df.to_csv('unique_genes.csv')"
      ],
      "execution_count": null,
      "outputs": []
    },
    {
      "cell_type": "code",
      "metadata": {
        "id": "Jmb6TCNlxdNj"
      },
      "source": [
        "test = pd.read_csv('unique_genes.csv', sep=',', index_col=0)\n",
        "test.head()"
      ],
      "execution_count": null,
      "outputs": []
    },
    {
      "cell_type": "markdown",
      "metadata": {
        "id": "KJ_ddJDHn2bz"
      },
      "source": [
        "---\n",
        "#### **_Your turn_: Exercises**"
      ]
    },
    {
      "cell_type": "markdown",
      "metadata": {
        "id": "KpvdMWF4n2b1"
      },
      "source": [
        "__Exercise 1__: Instead of determining how many counts are detected in each cell, can you find out how many counts are detected for each gene in our data set? You can store this number in the variable `total_cell_counts`."
      ]
    },
    {
      "cell_type": "code",
      "metadata": {
        "id": "4p9re_Azn2b2"
      },
      "source": [
        ""
      ],
      "execution_count": null,
      "outputs": []
    },
    {
      "cell_type": "markdown",
      "metadata": {
        "id": "JNtxrzf-n2b3"
      },
      "source": [
        "**Exercise 2**: Can you also calculate how many cells each individual gene is detected in? Please store this number in the variable `unique_cells`."
      ]
    },
    {
      "cell_type": "code",
      "metadata": {
        "id": "hCS59479w2qZ"
      },
      "source": [
        ""
      ],
      "execution_count": null,
      "outputs": []
    },
    {
      "cell_type": "markdown",
      "metadata": {
        "id": "B09hgIUkzyFm"
      },
      "source": [
        "**Exercise 3**: Now you can (a) turn your variable `unique_cells` into a `pandas` data frame, (b) save it as a CSV file called `unique_cells.csv` and (c) check that your saved file contains the correct data. "
      ]
    },
    {
      "cell_type": "code",
      "metadata": {
        "id": "V9z-Tm-Bn2b4"
      },
      "source": [
        ""
      ],
      "execution_count": null,
      "outputs": []
    },
    {
      "cell_type": "code",
      "metadata": {
        "id": "Igl5OBE5z9w6"
      },
      "source": [
        ""
      ],
      "execution_count": null,
      "outputs": []
    },
    {
      "cell_type": "markdown",
      "metadata": {
        "id": "4G-qw1SPizH9"
      },
      "source": [
        "---\n",
        "## **6. Visualising data**"
      ]
    },
    {
      "cell_type": "markdown",
      "metadata": {
        "id": "gVfSTlvbjfKU"
      },
      "source": [
        "To visualise our data, we will use the `pyplot` module from `matplotlib`, which we first need to import. The `%matplotlib inline` command ensures that plots are printed in our notebook."
      ]
    },
    {
      "cell_type": "code",
      "metadata": {
        "id": "hIo-B3sMjnSl"
      },
      "source": [
        "import matplotlib.pyplot as plt\n",
        "%matplotlib inline"
      ],
      "execution_count": null,
      "outputs": []
    },
    {
      "cell_type": "markdown",
      "metadata": {
        "id": "dZGAnxeVizAb"
      },
      "source": [
        "We can use a histogram to visualise the number of unique genes detected across cells in our data set:"
      ]
    },
    {
      "cell_type": "code",
      "metadata": {
        "id": "YlUwaI_IqJ_X"
      },
      "source": [
        "plt.hist(unique_genes)\n",
        "plt.show()"
      ],
      "execution_count": null,
      "outputs": []
    },
    {
      "cell_type": "markdown",
      "metadata": {
        "id": "1T_Y05DQrDo6"
      },
      "source": [
        "There are many ways to customize this plot, which are give them as arguments to the plotting function. This is true for all `matplotlib` functions. You can find all the options by looking at the documentation of each function, in our case [here](https://https://matplotlib.org/stable/api/_as_gen/matplotlib.pyplot.hist.html).\n",
        "For example, to plot our data in 20 bins, change the color to green and change the relative width of the bars to 80%, we would use:"
      ]
    },
    {
      "cell_type": "code",
      "metadata": {
        "id": "Ns-e_gf2mG6z"
      },
      "source": [
        "plt.hist(unique_genes, bins=20, color='Green', rwidth=0.8)\n",
        "plt.show()"
      ],
      "execution_count": null,
      "outputs": []
    },
    {
      "cell_type": "markdown",
      "metadata": {
        "id": "PdCANoL0soDd"
      },
      "source": [
        "And finally, to add a title and axis labels:"
      ]
    },
    {
      "cell_type": "code",
      "metadata": {
        "id": "CgCD3cjAskV_"
      },
      "source": [
        "plt.hist(unique_genes, bins=20, color='Green', rwidth=0.8)\n",
        "plt.title('Unique genes detected per cell')\n",
        "plt.xlabel('Number of unique genes')\n",
        "plt.ylabel('Frequency')\n",
        "plt.show()"
      ],
      "execution_count": null,
      "outputs": []
    },
    {
      "cell_type": "markdown",
      "metadata": {
        "id": "iq0ZWcZkwoz3"
      },
      "source": [
        "Instead of displaying a plot in your notebook, you can also save it to a file using the `.savefig()` method. The file type is determined by the extension you specify in the file name.\n",
        "\n",
        "As we are working in Colab, we also need to download the file to our computer using `files.download`."
      ]
    },
    {
      "cell_type": "code",
      "metadata": {
        "id": "X1mjlrVVwIff"
      },
      "source": [
        "plt.hist(unique_genes, bins=20, color='Green', rwidth=0.8)\n",
        "plt.title('Unique genes detected per cell')\n",
        "plt.xlabel('Number of unique genes')\n",
        "plt.ylabel('Frequency')\n",
        "plt.savefig('Histogram_unique_genes.png')"
      ],
      "execution_count": null,
      "outputs": []
    },
    {
      "cell_type": "code",
      "metadata": {
        "id": "cbZAbhQs2L8N"
      },
      "source": [
        "from google.colab import files\n",
        "files.download('Histogram_unique_genes.png')"
      ],
      "execution_count": null,
      "outputs": []
    },
    {
      "cell_type": "markdown",
      "metadata": {
        "id": "EsSIS1YJ6qJ4"
      },
      "source": [
        "There are lots of different types of plots in `matplotlib`, some of which you can view in a gallery [here](https://matplotlib.org/stable/gallery/index.html) (this will also give you the code used to generate the plots).\n",
        "\n",
        "For example, we might want to create a scatter plot of the number of unique genes detected vs. the total gene count per cell:\n"
      ]
    },
    {
      "cell_type": "code",
      "metadata": {
        "id": "zSktlSGO7R3r"
      },
      "source": [
        "plt.scatter(x=total_gene_counts, y=unique_genes)\n",
        "plt.title('Scatter plot')\n",
        "plt.xlabel('Total gene counts')\n",
        "plt.ylabel('Number of unique genes')\n",
        "plt.show()"
      ],
      "execution_count": null,
      "outputs": []
    },
    {
      "cell_type": "markdown",
      "metadata": {
        "id": "bIg8uxFD2hUT"
      },
      "source": [
        "---\n",
        "#### **_Your turn_: Exercises**"
      ]
    },
    {
      "cell_type": "markdown",
      "metadata": {
        "id": "ua-Fu28K2hUU"
      },
      "source": [
        "__Exercise 1__: Plot a histogram to visualise the number of unique cells that a gene is dected in across our data set."
      ]
    },
    {
      "cell_type": "code",
      "metadata": {
        "id": "TsNxRc7I2hUV"
      },
      "source": [
        ""
      ],
      "execution_count": null,
      "outputs": []
    },
    {
      "cell_type": "markdown",
      "metadata": {
        "id": "EtQAOszF2hUW"
      },
      "source": [
        "**Exercise 2**: Change the bar colour, axes labels and any other parameters you'd like to try out!"
      ]
    },
    {
      "cell_type": "code",
      "metadata": {
        "id": "ufT9zIW42hUW"
      },
      "source": [
        ""
      ],
      "execution_count": null,
      "outputs": []
    },
    {
      "cell_type": "markdown",
      "metadata": {
        "id": "vo5O4UaQuXn9"
      },
      "source": [
        "---\n",
        "## **7. Dimensional reduction and clustering**"
      ]
    },
    {
      "cell_type": "markdown",
      "metadata": {
        "id": "hHfUlUgkuRQJ"
      },
      "source": [
        "For all further steps, we will use the `scanpy` package designed for single-cell RNA sequencing data analysis. It uses a specific format called 'annoted data object' for storing sequencing data and associated metadata. The PBMC dataset has been prepared for you in this format, and we can download it and load it as follows:"
      ]
    },
    {
      "cell_type": "code",
      "metadata": {
        "id": "cWz7N83iPkp9"
      },
      "source": [
        "!wget -O pbmc.h5ad https://www.dropbox.com/s/fstt2blgac1nhsi/pbmc.h5ad?dl=0"
      ],
      "execution_count": null,
      "outputs": []
    },
    {
      "cell_type": "code",
      "metadata": {
        "id": "lZNHngBfP6Es"
      },
      "source": [
        "adata = sc.read('pbmc.h5ad')"
      ],
      "execution_count": null,
      "outputs": []
    },
    {
      "cell_type": "markdown",
      "metadata": {
        "id": "8irqUL9E7nZy"
      },
      "source": [
        "The `scanpy` package contains a lot of inbuilt functions that simplify complex processing steps. For example, to generate the same scatter plot we created above, we can use:"
      ]
    },
    {
      "cell_type": "code",
      "metadata": {
        "id": "RzJpAFcW450E"
      },
      "source": [
        "sc.pl.scatter(adata, x='total_gene_counts', y='unique_genes')"
      ],
      "execution_count": null,
      "outputs": []
    },
    {
      "cell_type": "markdown",
      "metadata": {
        "id": "OMVcHnNL86kD"
      },
      "source": [
        "Now we want to run dimensionality reduction and clustering on our data so that we can identify different cell types. First, we need to normalise and scale our data to zero mean and unit variance. We also clip values exceeding 10 standard deviations from the mean."
      ]
    },
    {
      "cell_type": "code",
      "metadata": {
        "id": "Q3BMcfZw-V8n"
      },
      "source": [
        "sc.pp.scale(adata, max_value=10)"
      ],
      "execution_count": null,
      "outputs": []
    },
    {
      "cell_type": "markdown",
      "metadata": {
        "id": "MFdxpEJK7-9_"
      },
      "source": [
        "To run principal component analysis (PCA) on our data:"
      ]
    },
    {
      "cell_type": "code",
      "metadata": {
        "id": "YpHpPdvR45xK"
      },
      "source": [
        "sc.tl.pca(adata, svd_solver='arpack')"
      ],
      "execution_count": null,
      "outputs": []
    },
    {
      "cell_type": "markdown",
      "metadata": {
        "id": "m-PMYB9H8T1T"
      },
      "source": [
        "To plot different principal components:"
      ]
    },
    {
      "cell_type": "code",
      "metadata": {
        "id": "xqHYyGox45lU"
      },
      "source": [
        "sc.pl.pca(adata, components=['1,2'])"
      ],
      "execution_count": null,
      "outputs": []
    },
    {
      "cell_type": "markdown",
      "metadata": {
        "id": "mD2hr0wB_aib"
      },
      "source": [
        "To compute a neighbourhood graph (based on the first 30 principal components and with a neighbourhood size of 10) and the UMAP dimensional reduction, which will help us to better distinguish our cell clusters in 2D:"
      ]
    },
    {
      "cell_type": "code",
      "metadata": {
        "id": "VevmElEg_h0R"
      },
      "source": [
        "sc.pp.neighbors(adata, n_pcs=30, n_neighbors=10)\n",
        "sc.tl.umap(adata)"
      ],
      "execution_count": null,
      "outputs": []
    },
    {
      "cell_type": "markdown",
      "metadata": {
        "id": "lLV78yRT_mxV"
      },
      "source": [
        "Now we can plot gene expression across all cells using the UMAP representation:"
      ]
    },
    {
      "cell_type": "code",
      "metadata": {
        "id": "thLpIYaE_mUp"
      },
      "source": [
        "sc.pl.umap(adata, color=['CST3', 'NKG7', 'PPBP'])"
      ],
      "execution_count": null,
      "outputs": []
    },
    {
      "cell_type": "markdown",
      "metadata": {
        "id": "de6gWGmX8m8I"
      },
      "source": [
        "To perform clustering:\n"
      ]
    },
    {
      "cell_type": "code",
      "metadata": {
        "id": "becTG7HD8mby"
      },
      "source": [
        "sc.tl.leiden(adata, resolution=0.6)"
      ],
      "execution_count": null,
      "outputs": []
    },
    {
      "cell_type": "markdown",
      "metadata": {
        "id": "-p4LaFIG_REV"
      },
      "source": [
        "We can now plot the results of the clustering:"
      ]
    },
    {
      "cell_type": "code",
      "metadata": {
        "id": "Fe70fA6nAjwZ"
      },
      "source": [
        "sc.pl.umap(adata, color=['leiden'])"
      ],
      "execution_count": null,
      "outputs": []
    },
    {
      "cell_type": "markdown",
      "metadata": {
        "id": "kY_yz4sNwNQV"
      },
      "source": [
        "---\n",
        "## **8. Identifying cell types**"
      ]
    },
    {
      "cell_type": "markdown",
      "metadata": {
        "id": "QCArPiqzGd7N"
      },
      "source": [
        "To identify the different cell types, we can visualise the expression of individual genes on the UMAP representation ..."
      ]
    },
    {
      "cell_type": "code",
      "metadata": {
        "id": "J1bpcXXTu2y7"
      },
      "source": [
        "sc.pl.umap(adata, color=['leiden', 'IL7R', 'PPBP'])  \n"
      ],
      "execution_count": null,
      "outputs": []
    },
    {
      "cell_type": "markdown",
      "metadata": {
        "id": "ieJiyviQGub1"
      },
      "source": [
        " ... or as violin plots across all clusters:"
      ]
    },
    {
      "cell_type": "code",
      "metadata": {
        "id": "CKvKX6ZAGZZZ"
      },
      "source": [
        "sc.pl.violin(adata, ['IL7R', 'PPBP'], groupby='leiden')"
      ],
      "execution_count": null,
      "outputs": []
    },
    {
      "cell_type": "markdown",
      "metadata": {
        "id": "ICxNIvv9CxVY"
      },
      "source": [
        "#### **_Your turn_: Exercises**"
      ]
    },
    {
      "cell_type": "markdown",
      "metadata": {
        "id": "RSelfBvVCxVZ"
      },
      "source": [
        "__Exercise 1__: Shown below is a list of marker genes for different cell types. Can you identify which Cluster (0-7) corresponds to which cell type based on marker gene expression? Please fill in the table with your results by replacing the `?`. "
      ]
    },
    {
      "cell_type": "markdown",
      "metadata": {
        "id": "S5t5Vvy3C4C8"
      },
      "source": [
        "Cell type | Marker genes |  Cluster (0-7)\n",
        "--- | --- |  ---\n",
        "B cells | MS4A1 |  ?\n",
        "CD4 T cells | IL7R |  ?\n",
        "CD8 T cells | CD8A |  ?\n",
        "NK cells | GNLY, NKG7 |  ?\n",
        "Dendritic cells | FCER1A, CST3 |  ?\n",
        "CD14 Monocytes | CD14, LYZ |  ?\n",
        "FCGR3A Monocytes | FCGR3A, MS4A7 |  ?\n",
        "Megakaryocytes | PPBP |  ?"
      ]
    },
    {
      "cell_type": "markdown",
      "metadata": {
        "id": "xD4Z8ZCZCxVZ"
      },
      "source": [
        "**Exercise 2**: Create an array called `new_cluster_names` that contains the names of the different cell types in the order of the clusters (0-7). Then run the code below to plot your results!"
      ]
    },
    {
      "cell_type": "code",
      "metadata": {
        "id": "YGRgMRaACxVa"
      },
      "source": [
        "# Complete this:\n",
        "new_cluster_names = ['', '', ...]"
      ],
      "execution_count": null,
      "outputs": []
    },
    {
      "cell_type": "code",
      "metadata": {
        "id": "yXwokZQqDxo6"
      },
      "source": [
        "# Then run this:\n",
        "adata.rename_categories('leiden', new_cluster_names)\n",
        "sc.pl.umap(adata, color='leiden', title='')"
      ],
      "execution_count": null,
      "outputs": []
    },
    {
      "cell_type": "markdown",
      "metadata": {
        "id": "UxF7RTDcwRgR"
      },
      "source": [
        "#**Well done!**\n",
        "\n",
        "\n",
        "\n"
      ]
    }
  ]
}